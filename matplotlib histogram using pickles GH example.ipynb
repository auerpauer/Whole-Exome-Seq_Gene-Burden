{
 "cells": [
  {
   "cell_type": "code",
   "execution_count": null,
   "metadata": {
    "collapsed": true
   },
   "outputs": [],
   "source": [
    "import os, sys\n",
    "import numpy as np\n",
    "import cPickle\n",
    "import matplotlib\n",
    "import matplotlib.pyplot as plt\n",
    "%matplotlib inline\n",
    "fig = plt.figure()\n",
    "ax = fig.add_subplot(1,1,1)\n"
   ]
  },
  {
   "cell_type": "code",
   "execution_count": 2,
   "metadata": {
    "collapsed": false
   },
   "outputs": [],
   "source": [
    "# Load the pickle into a data structure\n",
    "dataDir = '/home/user/results'\n",
    "fh = open(os.path.join(dataDir, 'my_anno_samples_variant_count.pickle'), 'r')\n",
    "annoVarCount = cPickle.load(fh)\n",
    "fh.close()"
   ]
  },
  {
   "cell_type": "code",
   "execution_count": null,
   "metadata": {
    "collapsed": true
   },
   "outputs": [],
   "source": [
    "# Use the data structure to create a histogram with title, and mean +/- std deviation values\n",
    "histValues = plt.hist(annoVarCount.values(), 50);\n",
    "myMean = np.mean(annoVarCount.values())\n",
    "myStd = np.std(annoVarCount.values())\n",
    "plt.title('Annotated Variant Counts, n={0}\\nMean: {1}+/-{2}'.format(len(annoVarCount.keys()), '%0.0f' %myMean, '%0.0f' %myStd ))\n",
    "plt.xlabel(\"SNVs per Sample\")\n",
    "ax = plt.subplot(1,1,1)\n",
    "plt.ylabel(\"Count\")\n",
    "ax.set_yticks([0,1,2,3]) # you will need to customize these values to your graph\n",
    "plt.xticks(np.arange(200, 900, 100)) # you will need to customize these values to your graph\n",
    "plt.tight_layout()\n",
    "#plt.show()\n",
    "plt.savefig('/home/user/results/anno_sample_variant_count.jpg', dpi=300)"
   ]
  }
 ],
 "metadata": {
  "kernelspec": {
   "display_name": "Python 2",
   "language": "python",
   "name": "python2"
  },
  "language_info": {
   "codemirror_mode": {
    "name": "ipython",
    "version": 2
   },
   "file_extension": ".py",
   "mimetype": "text/x-python",
   "name": "python",
   "nbconvert_exporter": "python",
   "pygments_lexer": "ipython2",
   "version": "2.7.13"
  }
 },
 "nbformat": 4,
 "nbformat_minor": 2
}
